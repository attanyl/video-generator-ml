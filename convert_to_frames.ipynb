{
 "cells": [
  {
   "cell_type": "code",
   "execution_count": 1,
   "metadata": {},
   "outputs": [],
   "source": [
    "from PIL import Image, ImageSequence\n",
    "import os\n",
    "from tqdm.notebook import tqdm"
   ]
  },
  {
   "cell_type": "code",
   "execution_count": 2,
   "metadata": {},
   "outputs": [],
   "source": [
    "if not os.path.exists('frames'):\n",
    "    os.makedirs('frames')"
   ]
  },
  {
   "cell_type": "code",
   "execution_count": 3,
   "metadata": {},
   "outputs": [
    {
     "data": {
      "application/vnd.jupyter.widget-view+json": {
       "model_id": "c00f3598efb6440cbe6c7dfd1cb51511",
       "version_major": 2,
       "version_minor": 0
      },
      "text/plain": [
       "  0%|          | 0/125770 [00:00<?, ?it/s]"
      ]
     },
     "metadata": {},
     "output_type": "display_data"
    },
    {
     "ename": "ValueError",
     "evalue": "box can't exceed original image size",
     "output_type": "error",
     "traceback": [
      "\u001b[1;31m---------------------------------------------------------------------------\u001b[0m",
      "\u001b[1;31mValueError\u001b[0m                                Traceback (most recent call last)",
      "Cell \u001b[1;32mIn[3], line 21\u001b[0m\n\u001b[0;32m     18\u001b[0m \u001b[39m# Loop over the frames\u001b[39;00m\n\u001b[0;32m     19\u001b[0m \u001b[39mfor\u001b[39;00m frame \u001b[39min\u001b[39;00m ImageSequence\u001b[39m.\u001b[39mIterator(im):\n\u001b[0;32m     20\u001b[0m     \u001b[39m# Resize the frame\u001b[39;00m\n\u001b[1;32m---> 21\u001b[0m     frame \u001b[39m=\u001b[39m frame\u001b[39m.\u001b[39;49mresize((\u001b[39m128\u001b[39;49m, \u001b[39m128\u001b[39;49m))\n\u001b[0;32m     23\u001b[0m     \u001b[39m# Save the frame\u001b[39;00m\n\u001b[0;32m     24\u001b[0m     frame\u001b[39m.\u001b[39msave(os\u001b[39m.\u001b[39mpath\u001b[39m.\u001b[39mjoin(dname, \u001b[39mf\u001b[39m\u001b[39m'\u001b[39m\u001b[39m{\u001b[39;00mim\u001b[39m.\u001b[39mtell()\u001b[39m}\u001b[39;00m\u001b[39m.png\u001b[39m\u001b[39m'\u001b[39m))\n",
      "File \u001b[1;32m~\\AppData\\Local\\Packages\\PythonSoftwareFoundation.Python.3.8_qbz5n2kfra8p0\\LocalCache\\local-packages\\Python38\\site-packages\\PIL\\Image.py:2192\u001b[0m, in \u001b[0;36mImage.resize\u001b[1;34m(self, size, resample, box, reducing_gap)\u001b[0m\n\u001b[0;32m   2184\u001b[0m             \u001b[39mself\u001b[39m \u001b[39m=\u001b[39m Image\u001b[39m.\u001b[39mreduce(\u001b[39mself\u001b[39m, factor, box\u001b[39m=\u001b[39mreduce_box)\n\u001b[0;32m   2185\u001b[0m         box \u001b[39m=\u001b[39m (\n\u001b[0;32m   2186\u001b[0m             (box[\u001b[39m0\u001b[39m] \u001b[39m-\u001b[39m reduce_box[\u001b[39m0\u001b[39m]) \u001b[39m/\u001b[39m factor_x,\n\u001b[0;32m   2187\u001b[0m             (box[\u001b[39m1\u001b[39m] \u001b[39m-\u001b[39m reduce_box[\u001b[39m1\u001b[39m]) \u001b[39m/\u001b[39m factor_y,\n\u001b[0;32m   2188\u001b[0m             (box[\u001b[39m2\u001b[39m] \u001b[39m-\u001b[39m reduce_box[\u001b[39m0\u001b[39m]) \u001b[39m/\u001b[39m factor_x,\n\u001b[0;32m   2189\u001b[0m             (box[\u001b[39m3\u001b[39m] \u001b[39m-\u001b[39m reduce_box[\u001b[39m1\u001b[39m]) \u001b[39m/\u001b[39m factor_y,\n\u001b[0;32m   2190\u001b[0m         )\n\u001b[1;32m-> 2192\u001b[0m \u001b[39mreturn\u001b[39;00m \u001b[39mself\u001b[39m\u001b[39m.\u001b[39m_new(\u001b[39mself\u001b[39;49m\u001b[39m.\u001b[39;49mim\u001b[39m.\u001b[39;49mresize(size, resample, box))\n",
      "\u001b[1;31mValueError\u001b[0m: box can't exceed original image size"
     ]
    }
   ],
   "source": [
    "# create a progress bar\n",
    "progress_bar = tqdm(total=len(os.listdir('gifs')), leave=True)\n",
    "progress_bar.reset(total=len(os.listdir('gifs')))\n",
    "\n",
    "for gif in os.listdir('gifs'):\n",
    "    dname = os.path.join('frames', gif.split('.')[0])\n",
    "    \n",
    "    if not os.path.exists(dname):\n",
    "        # Open the gif\n",
    "        im = Image.open(os.path.join('gifs', gif))\n",
    "\n",
    "        # Get the number of frames in the gif\n",
    "        n_frames = im.n_frames\n",
    "\n",
    "        # Create a folder for the frames of this gif\n",
    "        os.makedirs(dname, exist_ok=True)\n",
    "\n",
    "        # Loop over the frames\n",
    "        for frame in ImageSequence.Iterator(im):\n",
    "            # Resize the frame\n",
    "            frame = frame.resize((128, 128))\n",
    "            \n",
    "            # Save the frame\n",
    "            frame.save(os.path.join(dname, f'{im.tell()}.png'))\n",
    "        \n",
    "    # update the progress bar\n",
    "    progress_bar.update(1)"
   ]
  }
 ],
 "metadata": {
  "kernelspec": {
   "display_name": "Python 3",
   "language": "python",
   "name": "python3"
  },
  "language_info": {
   "codemirror_mode": {
    "name": "ipython",
    "version": 3
   },
   "file_extension": ".py",
   "mimetype": "text/x-python",
   "name": "python",
   "nbconvert_exporter": "python",
   "pygments_lexer": "ipython3",
   "version": "3.8.10"
  },
  "orig_nbformat": 4
 },
 "nbformat": 4,
 "nbformat_minor": 2
}
