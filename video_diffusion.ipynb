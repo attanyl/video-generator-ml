{
 "cells": [
  {
   "cell_type": "code",
   "execution_count": 1,
   "metadata": {},
   "outputs": [
    {
     "name": "stderr",
     "output_type": "stream",
     "text": [
      "c:\\Users\\david\\AppData\\Local\\Programs\\Python\\Python311\\Lib\\site-packages\\tqdm\\auto.py:21: TqdmWarning: IProgress not found. Please update jupyter and ipywidgets. See https://ipywidgets.readthedocs.io/en/stable/user_install.html\n",
      "  from .autonotebook import tqdm as notebook_tqdm\n"
     ]
    }
   ],
   "source": [
    "from video_diffusion_pytorch import Unet3D, GaussianDiffusion, Trainer\n",
    "import os\n",
    "from PIL import Image, ImageSequence\n",
    "import imageio\n",
    "import numpy as np\n",
    "import torch\n",
    "import gc\n",
    "from transformers import BertTokenizer, BertModel"
   ]
  },
  {
   "cell_type": "code",
   "execution_count": 2,
   "metadata": {},
   "outputs": [],
   "source": [
    "model = Unet3D(\n",
    "    dim = 64,\n",
    "    dim_mults=(1, 2, 4, 8),\n",
    ")"
   ]
  },
  {
   "cell_type": "code",
   "execution_count": 3,
   "metadata": {},
   "outputs": [],
   "source": [
    "diffusion = GaussianDiffusion(\n",
    "    model,\n",
    "    image_size=64,\n",
    "    num_frames=10,\n",
    "    timesteps = 1000,   # number of steps\n",
    "    loss_type='l1',     # L1 or L2\n",
    ").cuda()"
   ]
  },
  {
   "cell_type": "code",
   "execution_count": 4,
   "metadata": {},
   "outputs": [
    {
     "ename": "KeyboardInterrupt",
     "evalue": "",
     "output_type": "error",
     "traceback": [
      "\u001b[1;31m---------------------------------------------------------------------------\u001b[0m",
      "\u001b[1;31mKeyboardInterrupt\u001b[0m                         Traceback (most recent call last)",
      "Cell \u001b[1;32mIn[4], line 26\u001b[0m\n\u001b[0;32m     24\u001b[0m om \u001b[39m=\u001b[39m \u001b[39mnext\u001b[39m(frames)\n\u001b[0;32m     25\u001b[0m om\u001b[39m.\u001b[39minfo \u001b[39m=\u001b[39m gif\u001b[39m.\u001b[39minfo\n\u001b[1;32m---> 26\u001b[0m om\u001b[39m.\u001b[39;49msave(\u001b[39m'\u001b[39;49m\u001b[39mgifs_64/\u001b[39;49m\u001b[39m'\u001b[39;49m \u001b[39m+\u001b[39;49m file, save_all\u001b[39m=\u001b[39;49m\u001b[39mTrue\u001b[39;49;00m, append_images\u001b[39m=\u001b[39;49m\u001b[39mlist\u001b[39;49m(frames), loop\u001b[39m=\u001b[39;49m\u001b[39m0\u001b[39;49m)\n",
      "File \u001b[1;32mc:\\Users\\david\\AppData\\Local\\Programs\\Python\\Python311\\Lib\\site-packages\\PIL\\Image.py:2353\u001b[0m, in \u001b[0;36mImage.save\u001b[1;34m(self, fp, format, **params)\u001b[0m\n\u001b[0;32m   2350\u001b[0m         fp \u001b[39m=\u001b[39m builtins\u001b[39m.\u001b[39mopen(filename, \u001b[39m\"\u001b[39m\u001b[39mw+b\u001b[39m\u001b[39m\"\u001b[39m)\n\u001b[0;32m   2352\u001b[0m \u001b[39mtry\u001b[39;00m:\n\u001b[1;32m-> 2353\u001b[0m     save_handler(\u001b[39mself\u001b[39;49m, fp, filename)\n\u001b[0;32m   2354\u001b[0m \u001b[39mexcept\u001b[39;00m \u001b[39mException\u001b[39;00m:\n\u001b[0;32m   2355\u001b[0m     \u001b[39mif\u001b[39;00m open_fp:\n",
      "File \u001b[1;32mc:\\Users\\david\\AppData\\Local\\Programs\\Python\\Python311\\Lib\\site-packages\\PIL\\GifImagePlugin.py:653\u001b[0m, in \u001b[0;36m_save_all\u001b[1;34m(im, fp, filename)\u001b[0m\n\u001b[0;32m    652\u001b[0m \u001b[39mdef\u001b[39;00m \u001b[39m_save_all\u001b[39m(im, fp, filename):\n\u001b[1;32m--> 653\u001b[0m     _save(im, fp, filename, save_all\u001b[39m=\u001b[39;49m\u001b[39mTrue\u001b[39;49;00m)\n",
      "File \u001b[1;32mc:\\Users\\david\\AppData\\Local\\Programs\\Python\\Python311\\Lib\\site-packages\\PIL\\GifImagePlugin.py:664\u001b[0m, in \u001b[0;36m_save\u001b[1;34m(im, fp, filename, save_all)\u001b[0m\n\u001b[0;32m    661\u001b[0m     palette \u001b[39m=\u001b[39m \u001b[39mNone\u001b[39;00m\n\u001b[0;32m    662\u001b[0m     im\u001b[39m.\u001b[39mencoderinfo[\u001b[39m\"\u001b[39m\u001b[39moptimize\u001b[39m\u001b[39m\"\u001b[39m] \u001b[39m=\u001b[39m im\u001b[39m.\u001b[39mencoderinfo\u001b[39m.\u001b[39mget(\u001b[39m\"\u001b[39m\u001b[39moptimize\u001b[39m\u001b[39m\"\u001b[39m, \u001b[39mTrue\u001b[39;00m)\n\u001b[1;32m--> 664\u001b[0m \u001b[39mif\u001b[39;00m \u001b[39mnot\u001b[39;00m save_all \u001b[39mor\u001b[39;00m \u001b[39mnot\u001b[39;00m _write_multiple_frames(im, fp, palette):\n\u001b[0;32m    665\u001b[0m     _write_single_frame(im, fp, palette)\n\u001b[0;32m    667\u001b[0m fp\u001b[39m.\u001b[39mwrite(\u001b[39mb\u001b[39m\u001b[39m\"\u001b[39m\u001b[39m;\u001b[39m\u001b[39m\"\u001b[39m)  \u001b[39m# end of file\u001b[39;00m\n",
      "File \u001b[1;32mc:\\Users\\david\\AppData\\Local\\Programs\\Python\\Python311\\Lib\\site-packages\\PIL\\GifImagePlugin.py:579\u001b[0m, in \u001b[0;36m_write_multiple_frames\u001b[1;34m(im, fp, palette)\u001b[0m\n\u001b[0;32m    576\u001b[0m \u001b[39mfor\u001b[39;00m imSequence \u001b[39min\u001b[39;00m itertools\u001b[39m.\u001b[39mchain([im], im\u001b[39m.\u001b[39mencoderinfo\u001b[39m.\u001b[39mget(\u001b[39m\"\u001b[39m\u001b[39mappend_images\u001b[39m\u001b[39m\"\u001b[39m, [])):\n\u001b[0;32m    577\u001b[0m     \u001b[39mfor\u001b[39;00m im_frame \u001b[39min\u001b[39;00m ImageSequence\u001b[39m.\u001b[39mIterator(imSequence):\n\u001b[0;32m    578\u001b[0m         \u001b[39m# a copy is required here since seek can still mutate the image\u001b[39;00m\n\u001b[1;32m--> 579\u001b[0m         im_frame \u001b[39m=\u001b[39m _normalize_mode(im_frame\u001b[39m.\u001b[39;49mcopy())\n\u001b[0;32m    580\u001b[0m         \u001b[39mif\u001b[39;00m frame_count \u001b[39m==\u001b[39m \u001b[39m0\u001b[39m:\n\u001b[0;32m    581\u001b[0m             \u001b[39mfor\u001b[39;00m k, v \u001b[39min\u001b[39;00m im_frame\u001b[39m.\u001b[39minfo\u001b[39m.\u001b[39mitems():\n",
      "File \u001b[1;32mc:\\Users\\david\\AppData\\Local\\Programs\\Python\\Python311\\Lib\\site-packages\\PIL\\GifImagePlugin.py:485\u001b[0m, in \u001b[0;36m_normalize_mode\u001b[1;34m(im)\u001b[0m\n\u001b[0;32m    483\u001b[0m     \u001b[39mreturn\u001b[39;00m im\n\u001b[0;32m    484\u001b[0m \u001b[39mif\u001b[39;00m Image\u001b[39m.\u001b[39mgetmodebase(im\u001b[39m.\u001b[39mmode) \u001b[39m==\u001b[39m \u001b[39m\"\u001b[39m\u001b[39mRGB\u001b[39m\u001b[39m\"\u001b[39m:\n\u001b[1;32m--> 485\u001b[0m     im \u001b[39m=\u001b[39m im\u001b[39m.\u001b[39;49mconvert(\u001b[39m\"\u001b[39;49m\u001b[39mP\u001b[39;49m\u001b[39m\"\u001b[39;49m, palette\u001b[39m=\u001b[39;49mImage\u001b[39m.\u001b[39;49mPalette\u001b[39m.\u001b[39;49mADAPTIVE)\n\u001b[0;32m    486\u001b[0m     \u001b[39mif\u001b[39;00m im\u001b[39m.\u001b[39mpalette\u001b[39m.\u001b[39mmode \u001b[39m==\u001b[39m \u001b[39m\"\u001b[39m\u001b[39mRGBA\u001b[39m\u001b[39m\"\u001b[39m:\n\u001b[0;32m    487\u001b[0m         \u001b[39mfor\u001b[39;00m rgba \u001b[39min\u001b[39;00m im\u001b[39m.\u001b[39mpalette\u001b[39m.\u001b[39mcolors\u001b[39m.\u001b[39mkeys():\n",
      "File \u001b[1;32mc:\\Users\\david\\AppData\\Local\\Programs\\Python\\Python311\\Lib\\site-packages\\PIL\\Image.py:1026\u001b[0m, in \u001b[0;36mImage.convert\u001b[1;34m(self, mode, matrix, dither, palette, colors)\u001b[0m\n\u001b[0;32m   1023\u001b[0m             \u001b[39mraise\u001b[39;00m \u001b[39mValueError\u001b[39;00m(\u001b[39m\"\u001b[39m\u001b[39mTransparency for P mode should be bytes or int\u001b[39m\u001b[39m\"\u001b[39m)\n\u001b[0;32m   1025\u001b[0m \u001b[39mif\u001b[39;00m mode \u001b[39m==\u001b[39m \u001b[39m\"\u001b[39m\u001b[39mP\u001b[39m\u001b[39m\"\u001b[39m \u001b[39mand\u001b[39;00m palette \u001b[39m==\u001b[39m Palette\u001b[39m.\u001b[39mADAPTIVE:\n\u001b[1;32m-> 1026\u001b[0m     im \u001b[39m=\u001b[39m \u001b[39mself\u001b[39;49m\u001b[39m.\u001b[39;49mim\u001b[39m.\u001b[39;49mquantize(colors)\n\u001b[0;32m   1027\u001b[0m     new \u001b[39m=\u001b[39m \u001b[39mself\u001b[39m\u001b[39m.\u001b[39m_new(im)\n\u001b[0;32m   1028\u001b[0m     \u001b[39mfrom\u001b[39;00m \u001b[39m.\u001b[39;00m \u001b[39mimport\u001b[39;00m ImagePalette\n",
      "\u001b[1;31mKeyboardInterrupt\u001b[0m: "
     ]
    }
   ],
   "source": [
    "# create gifs_64 folder if it doesn't exist\n",
    "if not os.path.exists('gifs_64'):\n",
    "    os.makedirs('gifs_64')\n",
    "\n",
    "def resize(frames):\n",
    "    for frame in frames:\n",
    "        cpy = frame.copy()\n",
    "        cpy = cpy.resize((64, 64))\n",
    "        yield cpy\n",
    "\n",
    "# create a new folder gifs_64 that contains 64x64 resized versions of the gifs in the folder gifs\n",
    "for file in os.listdir('gifs'):\n",
    "    if file.endswith('.gif'):\n",
    "        # read each frame of the gif\n",
    "        gif = Image.open('gifs/' + file)\n",
    "        \n",
    "        # get the frames\n",
    "        frames = ImageSequence.Iterator(gif)\n",
    "        \n",
    "        # resize\n",
    "        frames = resize(frames)\n",
    "        \n",
    "        # save the resized frames\n",
    "        om = next(frames)\n",
    "        om.info = gif.info\n",
    "        om.save('gifs_64/' + file, save_all=True, append_images=list(frames), loop=0)"
   ]
  },
  {
   "cell_type": "code",
   "execution_count": 4,
   "metadata": {},
   "outputs": [],
   "source": [
    "gc.collect()\n",
    "torch.cuda.empty_cache()"
   ]
  },
  {
   "cell_type": "code",
   "execution_count": 5,
   "metadata": {},
   "outputs": [
    {
     "name": "stderr",
     "output_type": "stream",
     "text": [
      "Some weights of the model checkpoint at bert-large-uncased were not used when initializing BertModel: ['cls.predictions.transform.LayerNorm.weight', 'cls.predictions.transform.dense.bias', 'cls.predictions.bias', 'cls.predictions.transform.dense.weight', 'cls.predictions.decoder.weight', 'cls.seq_relationship.bias', 'cls.seq_relationship.weight', 'cls.predictions.transform.LayerNorm.bias']\n",
      "- This IS expected if you are initializing BertModel from the checkpoint of a model trained on another task or with another architecture (e.g. initializing a BertForSequenceClassification model from a BertForPreTraining model).\n",
      "- This IS NOT expected if you are initializing BertModel from the checkpoint of a model that you expect to be exactly identical (initializing a BertForSequenceClassification model from a BertForSequenceClassification model).\n"
     ]
    }
   ],
   "source": [
    "tokenizer = BertTokenizer.from_pretrained('bert-large-uncased')\n",
    "bert = BertModel.from_pretrained('bert-large-uncased', output_hidden_states=True)"
   ]
  },
  {
   "cell_type": "code",
   "execution_count": 6,
   "metadata": {},
   "outputs": [
    {
     "name": "stderr",
     "output_type": "stream",
     "text": [
      "C:\\Users\\david\\AppData\\Local\\Temp\\ipykernel_18608\\184284098.py:21: UserWarning: Creating a tensor from a list of numpy.ndarrays is extremely slow. Please consider converting the list to a single numpy.ndarray with numpy.array() before converting to a tensor. (Triggered internally at ..\\torch\\csrc\\utils\\tensor_new.cpp:248.)\n",
      "  gif = torch.tensor(gif).cuda()\n",
      "Using cache found in C:\\Users\\david/.cache\\torch\\hub\\huggingface_pytorch-transformers_main\n",
      "Using cache found in C:\\Users\\david/.cache\\torch\\hub\\huggingface_pytorch-transformers_main\n",
      "Some weights of the model checkpoint at bert-base-cased were not used when initializing BertModel: ['cls.predictions.transform.LayerNorm.weight', 'cls.predictions.transform.dense.bias', 'cls.predictions.bias', 'cls.predictions.transform.dense.weight', 'cls.predictions.decoder.weight', 'cls.seq_relationship.bias', 'cls.seq_relationship.weight', 'cls.predictions.transform.LayerNorm.bias']\n",
      "- This IS expected if you are initializing BertModel from the checkpoint of a model trained on another task or with another architecture (e.g. initializing a BertForSequenceClassification model from a BertForPreTraining model).\n",
      "- This IS NOT expected if you are initializing BertModel from the checkpoint of a model that you expect to be exactly identical (initializing a BertForSequenceClassification model from a BertForSequenceClassification model).\n"
     ]
    },
    {
     "name": "stdout",
     "output_type": "stream",
     "text": [
      "epoch 0, batch 0, loss 0.8698789477348328\n",
      "epoch 0, batch 10, loss 0.7602686882019043\n",
      "epoch 0, batch 20, loss 0.6494357585906982\n",
      "epoch 0, batch 30, loss 0.6202204823493958\n",
      "epoch 0, batch 40, loss 0.5340890288352966\n",
      "epoch 0, batch 50, loss 0.383981317281723\n",
      "epoch 0, batch 60, loss 0.4594486355781555\n",
      "epoch 0, batch 70, loss 0.34664252400398254\n",
      "epoch 0, batch 80, loss 0.5275373458862305\n",
      "epoch 0, batch 90, loss 0.2943350076675415\n",
      "epoch 0, batch 100, loss 0.39578238129615784\n",
      "epoch 0, batch 110, loss 0.25666141510009766\n",
      "epoch 0, batch 120, loss 0.2454884946346283\n",
      "epoch 0, batch 130, loss 0.21062105894088745\n",
      "epoch 0, batch 140, loss 0.19643940031528473\n",
      "epoch 0, batch 150, loss 0.45845767855644226\n",
      "epoch 0, batch 160, loss 0.19678707420825958\n",
      "epoch 0, batch 170, loss 0.537451446056366\n",
      "epoch 0, batch 180, loss 0.4582083821296692\n",
      "epoch 0, batch 190, loss 0.634088933467865\n",
      "epoch 0, batch 200, loss 0.2907816171646118\n",
      "epoch 0, batch 210, loss 0.5245013236999512\n",
      "epoch 0, batch 220, loss 0.18106797337532043\n",
      "epoch 0, batch 230, loss 0.3703690469264984\n",
      "epoch 0, batch 240, loss 0.2318733036518097\n",
      "epoch 0, batch 250, loss 0.18705730140209198\n",
      "epoch 0, batch 260, loss 0.16551566123962402\n",
      "epoch 0, batch 270, loss 0.3068007826805115\n",
      "epoch 0, batch 280, loss 0.3190872371196747\n",
      "epoch 0, batch 290, loss 0.5515466332435608\n",
      "epoch 0, batch 300, loss 0.277206152677536\n",
      "epoch 0, batch 310, loss 0.15493692457675934\n",
      "epoch 0, batch 320, loss 0.16838806867599487\n",
      "epoch 0, batch 330, loss 0.2191837579011917\n",
      "epoch 0, batch 340, loss 0.30772319436073303\n",
      "epoch 0, batch 350, loss 0.17376868426799774\n",
      "epoch 0, batch 360, loss 0.13832661509513855\n",
      "epoch 0, batch 370, loss 0.1569262444972992\n",
      "epoch 0, batch 380, loss 0.4161517024040222\n",
      "epoch 0, batch 390, loss 0.15022410452365875\n",
      "epoch 0, batch 400, loss 0.7105457782745361\n",
      "epoch 0, batch 410, loss 0.4657515585422516\n",
      "epoch 0, batch 420, loss 0.1390317678451538\n",
      "epoch 0, batch 430, loss 0.2598876953125\n",
      "epoch 0, batch 440, loss 0.13374488055706024\n",
      "epoch 0, batch 450, loss 0.15176641941070557\n",
      "epoch 0, batch 460, loss 0.18939168751239777\n",
      "epoch 0, batch 470, loss 0.1322830617427826\n",
      "epoch 0, batch 480, loss 0.19337835907936096\n",
      "epoch 0, batch 490, loss 0.12826088070869446\n",
      "epoch 0, batch 500, loss 0.1468256711959839\n",
      "epoch 0, batch 510, loss 0.22987882792949677\n",
      "epoch 0, batch 520, loss 0.1301371157169342\n",
      "epoch 0, batch 530, loss 0.2713203430175781\n",
      "epoch 0, batch 540, loss 0.12655009329319\n",
      "epoch 0, batch 550, loss 0.35298871994018555\n",
      "epoch 0, batch 560, loss 0.1402820646762848\n",
      "epoch 0, batch 570, loss 0.1745603382587433\n",
      "epoch 0, batch 580, loss 0.13457946479320526\n",
      "epoch 0, batch 590, loss 0.14326132833957672\n",
      "epoch 0, batch 600, loss 0.13312911987304688\n",
      "epoch 0, batch 610, loss 0.14624236524105072\n",
      "epoch 0, batch 620, loss 0.14012697339057922\n",
      "epoch 0, batch 630, loss 0.4334137737751007\n",
      "epoch 0, batch 640, loss 0.5795806646347046\n",
      "epoch 0, batch 650, loss 0.1684606969356537\n",
      "epoch 0, batch 660, loss 0.4061838984489441\n",
      "epoch 0, batch 670, loss 0.1325332075357437\n",
      "epoch 0, batch 680, loss 0.37305331230163574\n",
      "epoch 0, batch 690, loss 0.16949380934238434\n",
      "epoch 0, batch 700, loss 0.5205596089363098\n",
      "epoch 0, batch 710, loss 0.20717358589172363\n",
      "epoch 0, batch 720, loss 0.5368887186050415\n",
      "epoch 0, batch 730, loss 0.3106294274330139\n",
      "epoch 0, batch 740, loss 0.21440377831459045\n",
      "epoch 0, batch 750, loss 0.35827600955963135\n",
      "epoch 0, batch 760, loss 0.18787264823913574\n",
      "epoch 0, batch 770, loss 0.13060587644577026\n",
      "epoch 0, batch 780, loss 0.23309864103794098\n",
      "epoch 0, batch 790, loss 0.24963843822479248\n",
      "epoch 0, batch 800, loss 0.13999275863170624\n",
      "epoch 0, batch 810, loss 0.15707549452781677\n",
      "epoch 0, batch 820, loss 0.10896866023540497\n",
      "epoch 0, batch 830, loss 0.22973684966564178\n",
      "epoch 0, batch 840, loss 0.11293197423219681\n",
      "epoch 0, batch 850, loss 0.2364255040884018\n",
      "epoch 0, batch 860, loss 0.26343297958374023\n",
      "epoch 0, batch 870, loss 0.246233269572258\n",
      "epoch 0, batch 880, loss 0.14415773749351501\n",
      "epoch 0, batch 890, loss 0.09873979538679123\n",
      "epoch 0, batch 900, loss 0.1877749264240265\n",
      "epoch 0, batch 910, loss 0.16689540445804596\n",
      "epoch 0, batch 920, loss 0.09494208544492722\n",
      "epoch 0, batch 930, loss 0.4691259562969208\n",
      "epoch 0, batch 940, loss 0.13149158656597137\n",
      "epoch 0, batch 950, loss 0.10774248838424683\n",
      "epoch 0, batch 960, loss 0.4225923717021942\n",
      "epoch 0, batch 970, loss 0.1987735778093338\n",
      "epoch 0, batch 980, loss 0.22028504312038422\n",
      "epoch 0, batch 990, loss 0.19245663285255432\n",
      "epoch 0, batch 1000, loss 0.22423055768013\n",
      "epoch 0, batch 1010, loss 0.14412042498588562\n",
      "epoch 0, batch 1020, loss 0.2319924682378769\n",
      "epoch 0, batch 1030, loss 0.39296433329582214\n",
      "epoch 0, batch 1040, loss 0.1530865728855133\n",
      "epoch 0, batch 1050, loss 0.45973971486091614\n",
      "epoch 0, batch 1060, loss 0.1861441731452942\n",
      "epoch 0, batch 1070, loss 0.11465607583522797\n",
      "epoch 0, batch 1080, loss 0.4099445044994354\n",
      "epoch 0, batch 1090, loss 0.495534211397171\n",
      "epoch 0, batch 1100, loss 0.1960783153772354\n",
      "epoch 0, batch 1110, loss 0.13558922708034515\n",
      "epoch 0, batch 1120, loss 0.13126598298549652\n",
      "epoch 0, batch 1130, loss 0.08916530758142471\n",
      "epoch 0, batch 1140, loss 0.15278780460357666\n",
      "epoch 0, batch 1150, loss 0.1011686846613884\n",
      "epoch 0, batch 1160, loss 0.09849270433187485\n",
      "epoch 0, batch 1170, loss 0.10365919023752213\n",
      "epoch 0, batch 1180, loss 0.14648590981960297\n",
      "epoch 0, batch 1190, loss 0.11479309946298599\n",
      "epoch 0, batch 1200, loss 0.15181964635849\n",
      "epoch 0, batch 1210, loss 0.4837552011013031\n",
      "epoch 0, batch 1220, loss 0.45034530758857727\n",
      "epoch 0, batch 1230, loss 0.14383850991725922\n",
      "epoch 0, batch 1240, loss 0.0893571600317955\n",
      "epoch 0, batch 1250, loss 0.18141426146030426\n",
      "epoch 0, batch 1260, loss 0.18697039783000946\n",
      "epoch 0, batch 1270, loss 0.08515898138284683\n",
      "epoch 0, batch 1280, loss 0.1084936186671257\n",
      "epoch 0, batch 1290, loss 0.12514035403728485\n",
      "epoch 0, batch 1300, loss 0.12514927983283997\n",
      "epoch 0, batch 1310, loss 0.18639078736305237\n",
      "epoch 0, batch 1320, loss 0.1867794394493103\n",
      "epoch 0, batch 1330, loss 0.16914811730384827\n",
      "epoch 0, batch 1340, loss 0.5255599617958069\n",
      "epoch 0, batch 1350, loss 0.13050806522369385\n",
      "epoch 0, batch 1360, loss 0.19619598984718323\n",
      "epoch 0, batch 1370, loss 0.3041713833808899\n",
      "epoch 0, batch 1380, loss 0.09492223709821701\n",
      "epoch 0, batch 1390, loss 0.0937858447432518\n",
      "epoch 0, batch 1400, loss 0.18355026841163635\n",
      "epoch 0, batch 1410, loss 0.12785688042640686\n",
      "epoch 0, batch 1420, loss 0.08486434817314148\n",
      "epoch 0, batch 1430, loss 0.12728233635425568\n",
      "epoch 0, batch 1440, loss 0.14179234206676483\n",
      "epoch 0, batch 1450, loss 0.09426510334014893\n",
      "epoch 0, batch 1460, loss 0.11534295976161957\n",
      "epoch 1, batch 0, loss 0.08213859051465988\n",
      "epoch 1, batch 10, loss 0.13430683314800262\n",
      "epoch 1, batch 20, loss 0.10069532692432404\n"
     ]
    },
    {
     "ename": "KeyboardInterrupt",
     "evalue": "",
     "output_type": "error",
     "traceback": [
      "\u001b[1;31m---------------------------------------------------------------------------\u001b[0m",
      "\u001b[1;31mKeyboardInterrupt\u001b[0m                         Traceback (most recent call last)",
      "Cell \u001b[1;32mIn[6], line 21\u001b[0m\n\u001b[0;32m     19\u001b[0m     gif \u001b[39m=\u001b[39m np\u001b[39m.\u001b[39mconcatenate([gif, np\u001b[39m.\u001b[39mrepeat(gif[\u001b[39m-\u001b[39m\u001b[39m1\u001b[39m:], \u001b[39m10\u001b[39m \u001b[39m-\u001b[39m \u001b[39mlen\u001b[39m(gif), axis\u001b[39m=\u001b[39m\u001b[39m0\u001b[39m)])\n\u001b[0;32m     20\u001b[0m gif \u001b[39m=\u001b[39m gif[:\u001b[39m10\u001b[39m]\n\u001b[1;32m---> 21\u001b[0m gif \u001b[39m=\u001b[39m torch\u001b[39m.\u001b[39;49mtensor(gif)\u001b[39m.\u001b[39;49mcuda()\n\u001b[0;32m     22\u001b[0m gif \u001b[39m=\u001b[39m gif\u001b[39m.\u001b[39mpermute(\u001b[39m3\u001b[39m, \u001b[39m0\u001b[39m, \u001b[39m1\u001b[39m, \u001b[39m2\u001b[39m) \u001b[39m# (channels, frames, height, width)\u001b[39;00m\n\u001b[0;32m     23\u001b[0m gif \u001b[39m=\u001b[39m gif \u001b[39m/\u001b[39m \u001b[39m127.5\u001b[39m \u001b[39m-\u001b[39m \u001b[39m1\u001b[39m\n",
      "\u001b[1;31mKeyboardInterrupt\u001b[0m: "
     ]
    }
   ],
   "source": [
    "BATCH = 1\n",
    "optim = torch.optim.Adam(diffusion.parameters(), lr=1e-4)\n",
    "\n",
    "# train the diffusion model\n",
    "for i in range(10):\n",
    "    gif_names = os.listdir('gifs_64')\n",
    "    \n",
    "    # loop through the gifs 32 at a time\n",
    "    for j in range(0, len(gif_names), BATCH):\n",
    "        # the conds are the names of the gifs, remove the .gif extension\n",
    "        names = gif_names[j:j+BATCH]\n",
    "        conds = [name.split('.')[0] for name in names]\n",
    "        \n",
    "        # read the gifs and convert to tensors\n",
    "        gifs = []\n",
    "        for name in names:\n",
    "            gif = imageio.mimread('gifs_64/' + name)\n",
    "            if len(gif) < 10:\n",
    "                gif = np.concatenate([gif, np.repeat(gif[-1:], 10 - len(gif), axis=0)])\n",
    "            gif = gif[:10]\n",
    "            gif = torch.tensor(gif).cuda()\n",
    "            gif = gif.permute(3, 0, 1, 2) # (channels, frames, height, width)\n",
    "            gif = gif / 127.5 - 1\n",
    "            gifs.append(gif)\n",
    "        gifs = torch.stack(gifs)\n",
    "        \n",
    "        # zero the gradients\n",
    "        optim.zero_grad()\n",
    "        \n",
    "        # get the loss\n",
    "        loss = diffusion(gifs, cond=conds)\n",
    "        loss.backward()\n",
    "        \n",
    "        # update the weights\n",
    "        optim.step()\n",
    "        \n",
    "        if j % 10 == 0:\n",
    "            print(f'epoch {i}, batch {j}, loss {loss.item()}')"
   ]
  },
  {
   "cell_type": "code",
   "execution_count": 7,
   "metadata": {},
   "outputs": [
    {
     "name": "stderr",
     "output_type": "stream",
     "text": [
      "sampling loop time step: 100%|██████████| 1000/1000 [06:54<00:00,  2.41it/s]\n"
     ]
    }
   ],
   "source": [
    "txt = 'man jumps up and down'\n",
    "\n",
    "output_gif = diffusion.sample(cond=[txt])"
   ]
  },
  {
   "cell_type": "code",
   "execution_count": 9,
   "metadata": {},
   "outputs": [],
   "source": [
    "# convert the tensor to a gif that we can see\n",
    "out = output_gif[0].cpu().numpy()\n",
    "out = np.transpose(out, (1, 2, 3, 0))\n",
    "# the output is between -1 and 1, so we need to scale it to 0-255\n",
    "out = ((out + 1) / 2 * 255).astype(np.uint8)\n",
    "imageio.mimsave('out.gif', out, duration = 1000, loop = 0)"
   ]
  }
 ],
 "metadata": {
  "kernelspec": {
   "display_name": "Python 3",
   "language": "python",
   "name": "python3"
  },
  "language_info": {
   "codemirror_mode": {
    "name": "ipython",
    "version": 3
   },
   "file_extension": ".py",
   "mimetype": "text/x-python",
   "name": "python",
   "nbconvert_exporter": "python",
   "pygments_lexer": "ipython3",
   "version": "3.11.3"
  },
  "orig_nbformat": 4
 },
 "nbformat": 4,
 "nbformat_minor": 2
}
