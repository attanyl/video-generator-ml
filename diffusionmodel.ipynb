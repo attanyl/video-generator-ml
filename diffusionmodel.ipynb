{
 "cells": [
  {
   "cell_type": "code",
   "execution_count": 1,
   "metadata": {},
   "outputs": [
    {
     "name": "stdout",
     "output_type": "stream",
     "text": [
      "Requirement already satisfied: denoising_diffusion_pytorch in c:\\users\\attan\\.pyenv\\pyenv-win\\versions\\3.8.10\\lib\\site-packages (1.5.4)Note: you may need to restart the kernel to use updated packages.\n",
      "\n",
      "Requirement already satisfied: pillow in c:\\users\\attan\\.pyenv\\pyenv-win\\versions\\3.8.10\\lib\\site-packages (from denoising_diffusion_pytorch) (9.4.0)\n",
      "Requirement already satisfied: torchvision in c:\\users\\attan\\.pyenv\\pyenv-win\\versions\\3.8.10\\lib\\site-packages (from denoising_diffusion_pytorch) (0.15.1)\n",
      "Requirement already satisfied: ema-pytorch in c:\\users\\attan\\.pyenv\\pyenv-win\\versions\\3.8.10\\lib\\site-packages (from denoising_diffusion_pytorch) (0.2.2)\n",
      "Requirement already satisfied: accelerate in c:\\users\\attan\\.pyenv\\pyenv-win\\versions\\3.8.10\\lib\\site-packages (from denoising_diffusion_pytorch) (0.18.0)\n",
      "Requirement already satisfied: einops in c:\\users\\attan\\.pyenv\\pyenv-win\\versions\\3.8.10\\lib\\site-packages (from denoising_diffusion_pytorch) (0.6.0)\n",
      "Requirement already satisfied: tqdm in c:\\users\\attan\\.pyenv\\pyenv-win\\versions\\3.8.10\\lib\\site-packages (from denoising_diffusion_pytorch) (4.65.0)\n",
      "Requirement already satisfied: pytorch-fid in c:\\users\\attan\\.pyenv\\pyenv-win\\versions\\3.8.10\\lib\\site-packages (from denoising_diffusion_pytorch) (0.3.0)\n",
      "Requirement already satisfied: torch in c:\\users\\attan\\.pyenv\\pyenv-win\\versions\\3.8.10\\lib\\site-packages (from denoising_diffusion_pytorch) (2.0.0)\n",
      "Requirement already satisfied: pyyaml in c:\\users\\attan\\.pyenv\\pyenv-win\\versions\\3.8.10\\lib\\site-packages (from accelerate->denoising_diffusion_pytorch) (6.0)\n",
      "Requirement already satisfied: psutil in c:\\users\\attan\\.pyenv\\pyenv-win\\versions\\3.8.10\\lib\\site-packages (from accelerate->denoising_diffusion_pytorch) (5.9.4)\n",
      "Requirement already satisfied: packaging>=20.0 in c:\\users\\attan\\.pyenv\\pyenv-win\\versions\\3.8.10\\lib\\site-packages (from accelerate->denoising_diffusion_pytorch) (23.0)\n",
      "Requirement already satisfied: numpy>=1.17 in c:\\users\\attan\\.pyenv\\pyenv-win\\versions\\3.8.10\\lib\\site-packages (from accelerate->denoising_diffusion_pytorch) (1.24.2)\n",
      "Requirement already satisfied: sympy in c:\\users\\attan\\.pyenv\\pyenv-win\\versions\\3.8.10\\lib\\site-packages (from torch->denoising_diffusion_pytorch) (1.11.1)\n",
      "Requirement already satisfied: networkx in c:\\users\\attan\\.pyenv\\pyenv-win\\versions\\3.8.10\\lib\\site-packages (from torch->denoising_diffusion_pytorch) (3.0)\n",
      "Requirement already satisfied: filelock in c:\\users\\attan\\.pyenv\\pyenv-win\\versions\\3.8.10\\lib\\site-packages (from torch->denoising_diffusion_pytorch) (3.9.1)\n",
      "Requirement already satisfied: typing-extensions in c:\\users\\attan\\.pyenv\\pyenv-win\\versions\\3.8.10\\lib\\site-packages (from torch->denoising_diffusion_pytorch) (4.5.0)\n",
      "Requirement already satisfied: jinja2 in c:\\users\\attan\\.pyenv\\pyenv-win\\versions\\3.8.10\\lib\\site-packages (from torch->denoising_diffusion_pytorch) (3.1.2)\n",
      "Requirement already satisfied: MarkupSafe>=2.0 in c:\\users\\attan\\.pyenv\\pyenv-win\\versions\\3.8.10\\lib\\site-packages (from jinja2->torch->denoising_diffusion_pytorch) (2.1.2)\n",
      "Requirement already satisfied: scipy in c:\\users\\attan\\.pyenv\\pyenv-win\\versions\\3.8.10\\lib\\site-packages (from pytorch-fid->denoising_diffusion_pytorch) (1.4.1)\n",
      "Requirement already satisfied: requests in c:\\users\\attan\\.pyenv\\pyenv-win\\versions\\3.8.10\\lib\\site-packages (from torchvision->denoising_diffusion_pytorch) (2.28.2)\n",
      "Requirement already satisfied: charset-normalizer<4,>=2 in c:\\users\\attan\\.pyenv\\pyenv-win\\versions\\3.8.10\\lib\\site-packages (from requests->torchvision->denoising_diffusion_pytorch) (3.1.0)\n",
      "Requirement already satisfied: urllib3<1.27,>=1.21.1 in c:\\users\\attan\\.pyenv\\pyenv-win\\versions\\3.8.10\\lib\\site-packages (from requests->torchvision->denoising_diffusion_pytorch) (1.26.15)\n",
      "Requirement already satisfied: certifi>=2017.4.17 in c:\\users\\attan\\.pyenv\\pyenv-win\\versions\\3.8.10\\lib\\site-packages (from requests->torchvision->denoising_diffusion_pytorch) (2022.12.7)\n",
      "Requirement already satisfied: idna<4,>=2.5 in c:\\users\\attan\\.pyenv\\pyenv-win\\versions\\3.8.10\\lib\\site-packages (from requests->torchvision->denoising_diffusion_pytorch) (3.4)\n",
      "Requirement already satisfied: mpmath>=0.19 in c:\\users\\attan\\.pyenv\\pyenv-win\\versions\\3.8.10\\lib\\site-packages (from sympy->torch->denoising_diffusion_pytorch) (1.3.0)\n",
      "Requirement already satisfied: colorama in c:\\users\\attan\\.pyenv\\pyenv-win\\versions\\3.8.10\\lib\\site-packages (from tqdm->denoising_diffusion_pytorch) (0.4.6)\n"
     ]
    },
    {
     "name": "stderr",
     "output_type": "stream",
     "text": [
      "WARNING: Ignoring invalid distribution -rotobuf (c:\\users\\attan\\.pyenv\\pyenv-win\\versions\\3.8.10\\lib\\site-packages)UsageError: Line magic function `%` not found.\n",
      "\n",
      "WARNING: Ignoring invalid distribution -rotobuf (c:\\users\\attan\\.pyenv\\pyenv-win\\versions\\3.8.10\\lib\\site-packages)\n",
      "WARNING: Ignoring invalid distribution -rotobuf (c:\\users\\attan\\.pyenv\\pyenv-win\\versions\\3.8.10\\lib\\site-packages)\n",
      "WARNING: Ignoring invalid distribution -rotobuf (c:\\users\\attan\\.pyenv\\pyenv-win\\versions\\3.8.10\\lib\\site-packages)\n",
      "WARNING: Ignoring invalid distribution -rotobuf (c:\\users\\attan\\.pyenv\\pyenv-win\\versions\\3.8.10\\lib\\site-packages)\n",
      "WARNING: Ignoring invalid distribution -rotobuf (c:\\users\\attan\\.pyenv\\pyenv-win\\versions\\3.8.10\\lib\\site-packages)\n",
      "WARNING: You are using pip version 21.1.1; however, version 23.0.1 is available.\n",
      "You should consider upgrading via the 'c:\\Users\\attan\\.pyenv\\pyenv-win\\versions\\3.8.10\\python.exe -m pip install --upgrade pip' command.\n"
     ]
    }
   ],
   "source": [
    "%pip install denoising_diffusion_pytorch"
   ]
  },
  {
   "cell_type": "code",
   "execution_count": 7,
   "metadata": {},
   "outputs": [],
   "source": [
    "import torch\n",
    "%pip uninstall numpy\n",
    "!py -m pip install numpy==1.23.1 --user\n",
    "\n",
    "# import gaussian diffusion from denoising-diffusion-pytorch\n",
    "\n",
    "# from denoising_diffusion_pytorch import Unet, GaussianDiffusion"
   ]
  },
  {
   "cell_type": "code",
   "execution_count": null,
   "metadata": {},
   "outputs": [
    {
     "ename": "NameError",
     "evalue": "name 'Unet' is not defined",
     "output_type": "error",
     "traceback": [
      "\u001b[1;31m---------------------------------------------------------------------------\u001b[0m",
      "\u001b[1;31mNameError\u001b[0m                                 Traceback (most recent call last)",
      "Cell \u001b[1;32mIn[9], line 2\u001b[0m\n\u001b[0;32m      1\u001b[0m \u001b[39m# Create a UNet model\u001b[39;00m\n\u001b[1;32m----> 2\u001b[0m model \u001b[39m=\u001b[39m Unet(\n\u001b[0;32m      3\u001b[0m     dim \u001b[39m=\u001b[39m \u001b[39m64\u001b[39m,\n\u001b[0;32m      4\u001b[0m     dim_mults \u001b[39m=\u001b[39m (\u001b[39m1\u001b[39m, \u001b[39m2\u001b[39m, \u001b[39m4\u001b[39m, \u001b[39m8\u001b[39m)\n\u001b[0;32m      5\u001b[0m )\n\u001b[0;32m      7\u001b[0m \u001b[39m# Create a Gaussian Diffusion model\u001b[39;00m\n\u001b[0;32m      8\u001b[0m diffusion \u001b[39m=\u001b[39m GaussianDiffusion(\n\u001b[0;32m      9\u001b[0m     model,\n\u001b[0;32m     10\u001b[0m     image_size \u001b[39m=\u001b[39m \u001b[39m128\u001b[39m,\n\u001b[0;32m     11\u001b[0m     timesteps \u001b[39m=\u001b[39m \u001b[39m100\u001b[39m,   \u001b[39m# number of steps\u001b[39;00m\n\u001b[0;32m     12\u001b[0m     loss_type \u001b[39m=\u001b[39m \u001b[39m'\u001b[39m\u001b[39ml1\u001b[39m\u001b[39m'\u001b[39m    \u001b[39m# L1 or L2\u001b[39;00m\n\u001b[0;32m     13\u001b[0m )\n",
      "\u001b[1;31mNameError\u001b[0m: name 'Unet' is not defined"
     ]
    }
   ],
   "source": [
    "# Create a UNet model\n",
    "model = Unet(\n",
    "    dim = 64,\n",
    "    dim_mults = (1, 2, 4, 8)\n",
    ")\n",
    "\n",
    "# Create a Gaussian Diffusion model\n",
    "diffusion = GaussianDiffusion(\n",
    "    model,\n",
    "    image_size = 128,\n",
    "    timesteps = 100,   # number of steps\n",
    "    loss_type = 'l1'    # L1 or L2\n",
    ")\n",
    "\n",
    "trainer = Trainer(\n",
    "    diffusion,\n",
    "    r'C:\\Users/\\attan\\Downloads\\ml\\target_dir\\train',\n",
    "    train_batch_size = 32,\n",
    "    train_lr = 2e-5,\n",
    "    train_num_steps = 700000,         # total training steps\n",
    "    gradient_accumulate_every = 2,    # gradient accumulation steps\n",
    "    ema_decay = 0.995,                # exponential moving average decay\n",
    "    amp = True                        # turn on mixed precision\n",
    ")\n",
    "\n",
    "training_images = torch.rand(8, 3, 128, 128) # images are normalized from 0 to 1\n",
    "loss = diffusion(training_images)\n",
    "loss.backward()\n",
    "# after a lot of training\n",
    "\n",
    "sampled_images = diffusion.sample(batch_size = 4)\n",
    "sampled_images.shape # (4, 3, 128, 128)\n"
   ]
  }
 ],
 "metadata": {
  "kernelspec": {
   "display_name": "Python 3",
   "language": "python",
   "name": "python3"
  },
  "language_info": {
   "codemirror_mode": {
    "name": "ipython",
    "version": 3
   },
   "file_extension": ".py",
   "mimetype": "text/x-python",
   "name": "python",
   "nbconvert_exporter": "python",
   "pygments_lexer": "ipython3",
   "version": "3.8.10"
  },
  "orig_nbformat": 4
 },
 "nbformat": 4,
 "nbformat_minor": 2
}
